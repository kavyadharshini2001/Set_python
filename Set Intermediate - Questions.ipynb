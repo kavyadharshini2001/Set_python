{
 "cells": [
  {
   "cell_type": "markdown",
   "metadata": {},
   "source": [
    "# Set Intermediate Questions"
   ]
  },
  {
   "cell_type": "code",
   "execution_count": 1,
   "metadata": {},
   "outputs": [
    {
     "name": "stdout",
     "output_type": "stream",
     "text": [
      "False\n",
      "True\n",
      "True\n"
     ]
    }
   ],
   "source": [
    "'''1. Write a Python program to check if two given sets have no elements in common. Return True if no common element, False if has common elements.\n",
    "    Data:\n",
    "        a = {1,2,3,4}\n",
    "        b = {4,5,6,7}\n",
    "        c = {8}\n",
    "    Expected Output:\n",
    "        Compare a and b: False\n",
    "        Compare a and c: True\n",
    "        Compare b and c: True '''   \n",
    "            \n",
    "            \n",
    "            \n",
    "a = {1,2,3,4}\n",
    "b = {4,5,6,7}\n",
    "c = {8}\n",
    "print(a.isdisjoint(b))\n",
    "print(a.isdisjoint(c))\n",
    "print(b.isdisjoint(c))"
   ]
  },
  {
   "cell_type": "code",
   "execution_count": 7,
   "metadata": {},
   "outputs": [
    {
     "name": "stdout",
     "output_type": "stream",
     "text": [
      "True\n",
      "False\n",
      "False\n"
     ]
    }
   ],
   "source": [
    "'''2. Write a Python program to check if a given value is present in a set or not. \n",
    "    Data:\n",
    "        {1, 4, 5, 6, 11, 80, 20, 23} \n",
    "    Expected Output:\n",
    "        Test if 11 exists in nums: True\n",
    "        Test if 6 is not in nums:  True\n",
    "        Test if 7 exists in nums:  False\n",
    "            '''\n",
    "            \n",
    "x={1, 4, 5, 6, 11, 80, 20, 23}\n",
    "print(11 in x)\n",
    "print(6 not in x)\n",
    "print(7 in x)"
   ]
  },
  {
   "cell_type": "code",
   "execution_count": 9,
   "metadata": {},
   "outputs": [
    {
     "name": "stdout",
     "output_type": "stream",
     "text": [
      "False\n",
      "frozenset({1, 2})\n",
      "frozenset({1, 2, 3, 4, 5, 6, 7})\n"
     ]
    }
   ],
   "source": [
    "'''3. Write a Python program to print the following output from the given list x, y using frozenset().\n",
    "    Data:\n",
    "        x =[1, 2, 3, 4, 5]\n",
    "        y =[3, 4, 5, 6, 7]\n",
    "    Expected Output:\n",
    "        False\n",
    "        frozenset({1, 2})\n",
    "        frozenset({1, 2, 3, 4, 5, 6, 7})\n",
    "        \n",
    "'''\n",
    "x =[1, 2, 3, 4, 5]\n",
    "y =[3, 4, 5, 6, 7]\n",
    "a = frozenset(x)\n",
    "b= frozenset(y)\n",
    "print(a.issubset(b))\n",
    "k = a.difference(b)\n",
    "print(k)\n",
    "print(a.union(b))\n"
   ]
  },
  {
   "cell_type": "code",
   "execution_count": 12,
   "metadata": {},
   "outputs": [
    {
     "name": "stdout",
     "output_type": "stream",
     "text": [
      "{5, 7}\n",
      "{5, 7}\n"
     ]
    }
   ],
   "source": [
    "''' 4. Write a Python program to print the following output from given set x={5, 7}, y={3, 2}, z=set() find the Expected Output.\n",
    "    Expected Output:\n",
    "        {(8, 3), (6, 3), (7, 2), (5, 2)} '''\n",
    "\n",
    "#Didnt understand the question \n"
   ]
  },
  {
   "cell_type": "code",
   "execution_count": null,
   "metadata": {},
   "outputs": [],
   "source": [
    "''' 5. Write a Python program to count the elements in a list until an element is a set.\n",
    "    Data:\n",
    "        x = [10,20,30,(10,20),40]\n",
    "    Expected Output:\n",
    "        2 '''\n",
    "        \n",
    "# The question has no set only tuple in it. Error displayed 'unhashable type set' if tried to execute     \n",
    "        \n",
    "        "
   ]
  },
  {
   "cell_type": "code",
   "execution_count": 13,
   "metadata": {},
   "outputs": [
    {
     "name": "stdout",
     "output_type": "stream",
     "text": [
      "-432\n"
     ]
    }
   ],
   "source": [
    "'''6. Write a Python program to multiply all the elements in a given set.\n",
    "    Data:\n",
    "        x = {4, 3, 2, 2, -1, 18}\n",
    "    Expected Output:\n",
    "        Original set : {2, 3, 4, 18, -1}\n",
    "        Product - multiplying all the numbers of the said set: -432           \n",
    "            \n",
    "            '''\n",
    "x = {2, 3, 4, 18, -1}\n",
    "y = 1\n",
    "for i in x:\n",
    "    y *=i\n",
    "print(y)    "
   ]
  },
  {
   "cell_type": "code",
   "execution_count": 15,
   "metadata": {},
   "outputs": [
    {
     "name": "stdout",
     "output_type": "stream",
     "text": [
      "{1, 2, 3, 4}\n",
      "{1, 2, 3, 5}\n",
      "{1, 2, 3}\n",
      "Element_wise sum of the said sets:{9, 3, 6}\n"
     ]
    }
   ],
   "source": [
    "'''. Write a Python program to compute element-wise sum of given sets.\n",
    "    Data: \n",
    "        x = {1, 2, 3, 4}\n",
    "        y = {3, 5, 2, 1}\n",
    "        z = {2, 2, 3, 1}\n",
    "    Expected Output:\n",
    "        Original sets:\n",
    "            {1, 2, 3, 4}\n",
    "            {1, 2, 3, 5}\n",
    "            {1, 2, 3}\n",
    "        Element-wise sum of the said sets:\n",
    "            {9, 3, 6} '''\n",
    "        \n",
    "x = {1, 2, 3, 4}\n",
    "y = {3, 5, 2, 1}\n",
    "z = {2, 2, 3, 1}\n",
    "print(x)\n",
    "print(y)\n",
    "print(z)\n",
    "sum_of_elements = {a+b+c for a,b,c in zip(x,y,z)}\n",
    "print(f\"Element_wise sum of the said sets:{sum_of_elements}\")"
   ]
  },
  {
   "cell_type": "code",
   "execution_count": 19,
   "metadata": {},
   "outputs": [
    {
     "name": "stdout",
     "output_type": "stream",
     "text": [
      "{2, 4, 6, 8, 10}\n",
      "5\n"
     ]
    }
   ],
   "source": [
    "'''8. Write a Python program to sum of all counts in a collections.\n",
    "    Data:\n",
    "        x = {2, 2, 4, 6, 6, 8, 6, 10, 4}\n",
    "    Expected Output:\n",
    "        5\n",
    "        \n",
    "        '''\n",
    "x = {2, 2, 4, 6, 6, 8, 6, 10, 4}\n",
    "print(x)\n",
    "y = len(x)\n",
    "print(y)"
   ]
  },
  {
   "cell_type": "code",
   "execution_count": 26,
   "metadata": {},
   "outputs": [
    {
     "name": "stdout",
     "output_type": "stream",
     "text": [
      "10\n",
      "20\n",
      "56\n",
      "35\n",
      "17\n",
      "99\n"
     ]
    }
   ],
   "source": [
    "'''9. Write a Python program to create a bytearray from a set.\n",
    "    Data:\n",
    "        x = {10, 20, 56, 35, 17, 99}\n",
    "    Expected Output:\n",
    "        35\n",
    "        99\n",
    "        10\n",
    "        17\n",
    "        20\n",
    "        56'''\n",
    "\n",
    "x = [10, 20, 56, 35, 17, 99]\n",
    "\n",
    "y = bytearray(x)\n",
    "for byte in y:\n",
    "    print(byte)\n",
    "\n",
    "        \n",
    "        \n",
    "        "
   ]
  },
  {
   "cell_type": "code",
   "execution_count": 22,
   "metadata": {},
   "outputs": [
    {
     "data": {
      "text/plain": [
       "' 10. Write a Python program to create the combinations of 3 digit combo to following given range(1000).\\n    Expected Output:\\n        999 '"
      ]
     },
     "execution_count": 22,
     "metadata": {},
     "output_type": "execute_result"
    }
   ],
   "source": [
    "''' 10. Write a Python program to create the combinations of 3 digit combo to following given range(1000).\n",
    "    Expected Output:\n",
    "        999 '''\n",
    "\n",
    "#Didnt understand the question       \n",
    "        \n",
    "        "
   ]
  },
  {
   "cell_type": "code",
   "execution_count": 27,
   "metadata": {},
   "outputs": [
    {
     "name": "stdout",
     "output_type": "stream",
     "text": [
      "12\n",
      "-10\n",
      "-30\n"
     ]
    }
   ],
   "source": [
    "'''11. Write a Python program to add two positive integers without using the '+' operator.\n",
    "    Data:\n",
    "        (2, 10)\n",
    "        (10, -20)\n",
    "        (-10, -20)\n",
    "    Expected Output:\n",
    "         12\n",
    "        -10\n",
    "        -30\n",
    "        '''\n",
    "def add_without_plus(a, b):\n",
    "    while b != 0:\n",
    "        carry = a & b\n",
    "        a = a ^ b\n",
    "        b = carry << 1\n",
    "\n",
    "    return a\n",
    "\n",
    "result1 = add_without_plus(2, 10)\n",
    "result2 = add_without_plus(10, -20)\n",
    "result3 = add_without_plus(-10, -20)\n",
    "\n",
    "print(result1)  # Expected Output: 12\n",
    "print(result2)  # Expected Output: -10\n",
    "print(result3)  # Expected Output: -30\n",
    "\n",
    "        "
   ]
  },
  {
   "cell_type": "code",
   "execution_count": 31,
   "metadata": {},
   "outputs": [
    {
     "data": {
      "text/plain": [
       "' 12. Write a Python program to find the digits which are absent in a given mobile number.\\n    Data:\\n        x = [0, 1, 2, 3, 4, 5, 6, 7, 8, 9]\\n    Expected Output:\\n        [1, 4, 5] '"
      ]
     },
     "execution_count": 31,
     "metadata": {},
     "output_type": "execute_result"
    }
   ],
   "source": [
    "''' 12. Write a Python program to find the digits which are absent in a given mobile number.\n",
    "    Data:\n",
    "        x = [0, 1, 2, 3, 4, 5, 6, 7, 8, 9]\n",
    "    Expected Output:\n",
    "        [1, 4, 5] '''\n",
    "        \n",
    "# Didnt understand the question        \n",
    "        "
   ]
  },
  {
   "cell_type": "code",
   "execution_count": 36,
   "metadata": {},
   "outputs": [
    {
     "name": "stdout",
     "output_type": "stream",
     "text": [
      "2\n"
     ]
    }
   ],
   "source": [
    "''' 13. Write a Python program to compute the digit number of sum of two given integers.\n",
    "    Data:\n",
    "        (a, b)=(5, 7)\n",
    "    Expected Output:\n",
    "        2 '''\n",
    "        \n",
    "\n",
    "        \n",
    "x=(5, 7)\n",
    "y =sum(x)\n",
    "y = str(y)\n",
    "print(len(y))"
   ]
  },
  {
   "cell_type": "code",
   "execution_count": 37,
   "metadata": {},
   "outputs": [
    {
     "name": "stdout",
     "output_type": "stream",
     "text": [
      "{'mango', 'orange'}\n",
      "{'apple', 'kiwi'}\n"
     ]
    }
   ],
   "source": [
    "'''14. Write a Python program to create set difference. \n",
    "    Data:\n",
    "        x = {\"apple\", \"orange\", \"mango\", \"kiwi\"}\n",
    "        y = {\"orange\", \"mango\", \"watermelon\"}\n",
    "    Expected Output:\n",
    "        Difference between x & y is : {'orange', 'mango'}\n",
    "        Difference between x - z is : {'apple', 'kiwi'}\n",
    "        '''\n",
    "x = {\"apple\", \"orange\", \"mango\", \"kiwi\"}\n",
    "y = {\"orange\", \"mango\", \"watermelon\"}\n",
    "print(x&y)\n",
    "print(x-y)"
   ]
  },
  {
   "cell_type": "code",
   "execution_count": 38,
   "metadata": {},
   "outputs": [
    {
     "name": "stdout",
     "output_type": "stream",
     "text": [
      "{1, 2, 3}\n",
      "{8, 6, 7}\n",
      "{1, 2, 3}\n",
      "{8, 6, 7}\n"
     ]
    }
   ],
   "source": [
    "'''15. Write a Python program to find the difference between two given sets using difference() and - operator.\n",
    "    Data:\n",
    "        sn1 = {1, 2, 3, 4, 5}\n",
    "        sn2 = {4, 5, 6, 7, 8}\n",
    "    Expected Output:\n",
    "        Difference of sn1 and sn2 using difference(): {1, 2, 3}\n",
    "        Difference of sn2 and sn1 using difference(): {8, 6, 7}\n",
    "        Difference of sn1 and sn2 using - operator: {1, 2, 3}\n",
    "        Difference of sn2 and sn1 using - operator: {8, 6, 7}\n",
    "    '''\n",
    "x = {1, 2, 3, 4, 5}\n",
    "y = {4, 5, 6, 7, 8}\n",
    "print(x.difference(y))\n",
    "print(y.difference(x))\n",
    "print(x-y)\n",
    "print(y-x)"
   ]
  },
  {
   "cell_type": "code",
   "execution_count": 40,
   "metadata": {},
   "outputs": [
    {
     "name": "stdout",
     "output_type": "stream",
     "text": [
      "True\n",
      "False\n"
     ]
    }
   ],
   "source": [
    "'''16. Write a Python program to check whether a given set has no elements in common with another given set using isdisjoint().\n",
    "    Data:\n",
    "        {1, 2, 3}\n",
    "        {4, 5, 6}\n",
    "        {3}\n",
    "    Expected Output:\n",
    "        Check sn1 set has no elements in common with sn2 set:\n",
    "        True\n",
    "        Check sn1 set has no elements in common with sn3 set:\n",
    "        False'''\n",
    "        \n",
    "a={1, 2, 3}\n",
    "b={4, 5, 6}\n",
    "c={3}\n",
    "print(a.isdisjoint(b))\n",
    "print(a.isdisjoint(c))"
   ]
  },
  {
   "cell_type": "code",
   "execution_count": 42,
   "metadata": {},
   "outputs": [
    {
     "name": "stdout",
     "output_type": "stream",
     "text": [
      "o\n",
      "l\n"
     ]
    }
   ],
   "source": [
    "'''17. Write a  Python Program to print the common letters present in the two given strings using set().\n",
    "    Data:\n",
    "        x = \"Hello\"\n",
    "        y = \"World\"\n",
    "    Expected Output:\n",
    "        The common letters are:\n",
    "            o\n",
    "            l\n",
    "        '''\n",
    "x = \"Hello\"\n",
    "y = \"World\"\n",
    "a = set(x) &set(y)\n",
    "for letter in a:\n",
    "    print(letter)"
   ]
  },
  {
   "cell_type": "code",
   "execution_count": 44,
   "metadata": {},
   "outputs": [
    {
     "name": "stdout",
     "output_type": "stream",
     "text": [
      "e\n",
      "H\n"
     ]
    }
   ],
   "source": [
    "'''18. Write a  Python Program to display the letters which are in the first string but not in the second string using set(). \n",
    "    Data:\n",
    "        x = \"Hello\"\n",
    "        y = \"World\"\n",
    "    Expected Output:\n",
    "        The letters are:\n",
    "            H\n",
    "            e'''\n",
    "        \n",
    "x = \"Hello\"\n",
    "y = \"World\"\n",
    "a = set(x) -set(y)\n",
    "for letter in a:\n",
    "    print(letter)        "
   ]
  },
  {
   "cell_type": "code",
   "execution_count": 45,
   "metadata": {},
   "outputs": [
    {
     "name": "stdout",
     "output_type": "stream",
     "text": [
      "e\n",
      "W\n",
      "r\n",
      "d\n",
      "H\n"
     ]
    }
   ],
   "source": [
    "'''19. Write Python Program to display the letters which are not in common from both the given strings using set(). \n",
    "    Data:\n",
    "        x = \"Hello\"\n",
    "        y = \"World\"\n",
    "    Expected Output:\n",
    "        The letters are:\n",
    "            W\n",
    "            H\n",
    "            d\n",
    "            e\n",
    "            r\n",
    "            '''\n",
    "x = \"Hello\"\n",
    "y = \"World\"\n",
    "a = set(x)^set(y)\n",
    "for i in a:\n",
    "    print(i)\n"
   ]
  },
  {
   "cell_type": "code",
   "execution_count": 46,
   "metadata": {},
   "outputs": [
    {
     "name": "stdout",
     "output_type": "stream",
     "text": [
      "False\n",
      "False\n"
     ]
    }
   ],
   "source": [
    "'''20. Write a Python program to check if a set is a subset of another set.\n",
    "    Data:\n",
    "        1:  {'green', 'blue'}\n",
    "        2:  {'blue', 'red'}\n",
    "        3:  {'blue'}\n",
    "    Expected Output:\n",
    "        If 1 is subset of 2\n",
    "        False\n",
    "        False\n",
    "        If 2 is subset of 1\n",
    "        False\n",
    "        False\n",
    "        \n",
    "        '''\n",
    "        \n",
    "x={'green', 'blue'}\n",
    "y={'blue', 'red'}\n",
    "z={'blue'}\n",
    "print(x.issubset(y))\n",
    "print(y.issubset(x))"
   ]
  },
  {
   "cell_type": "code",
   "execution_count": null,
   "metadata": {},
   "outputs": [],
   "source": [
    "# Doubt Questions\n",
    "\n",
    "#4 - Didnt understand the question \n",
    "#5 - The question has no set only tuple in it. Error displayed 'unhashable type set' if tried to execute     \n",
    "#10 - Didnt understand the question\n",
    "#11 - But the question doesn't have any set items.\n",
    "#12 - Didnt understand the question \n",
    "#13 - Didnt understand the question "
   ]
  }
 ],
 "metadata": {
  "kernelspec": {
   "display_name": "Python 3 (ipykernel)",
   "language": "python",
   "name": "python3"
  },
  "language_info": {
   "codemirror_mode": {
    "name": "ipython",
    "version": 3
   },
   "file_extension": ".py",
   "mimetype": "text/x-python",
   "name": "python",
   "nbconvert_exporter": "python",
   "pygments_lexer": "ipython3",
   "version": "3.11.5"
  }
 },
 "nbformat": 4,
 "nbformat_minor": 4
}
