{
 "cells": [
  {
   "cell_type": "markdown",
   "metadata": {},
   "source": [
    "# Set Hard Questions"
   ]
  },
  {
   "cell_type": "code",
   "execution_count": 1,
   "metadata": {},
   "outputs": [
    {
     "name": "stdout",
     "output_type": "stream",
     "text": [
      "{'P', 'o', 'y', 't', 'h', 'n'}\n",
      "{'o', 'u', 'i', 'a', 'e'}\n",
      "{'o', 'u', 'i', 'a', 'e'}\n",
      "{0, 1, 2, 3, 4}\n"
     ]
    }
   ],
   "source": [
    "'''1. Write a Python program to create sets from given string, tuple, list, and range using given data.\n",
    "    Data:\n",
    "        x = 'Python'\n",
    "        y = ('a', 'e', 'i', 'o', 'u')\n",
    "        z = ['a', 'e', 'i', 'o', 'u']\n",
    "        a = range(5)\n",
    "    Expected Output:\n",
    "        set()\n",
    "        {'P', 'o', 't', 'n', 'y', 'h'}\n",
    "        {'a', 'o', 'e', 'u', 'i'}\n",
    "        {'a', 'o', 'e', 'u', 'i'}\n",
    "        {0, 1, 2, 3, 4}\n",
    "        '''\n",
    "        \n",
    "x = 'Python'\n",
    "y = ('a', 'e', 'i', 'o', 'u')\n",
    "z = ['a', 'e', 'i', 'o', 'u']\n",
    "a = range(5)   \n",
    "print(set(x))\n",
    "print(set(y))\n",
    "print(set(z))\n",
    "print(set(a))"
   ]
  },
  {
   "cell_type": "code",
   "execution_count": 2,
   "metadata": {},
   "outputs": [
    {
     "name": "stdout",
     "output_type": "stream",
     "text": [
      "{'i', 'a', 'e', 'o', 'u'}\n",
      "{'i', 'a', 'e', 'o', 'u'}\n",
      "{'o', 'u', 'i', 'a', 'e'}\n"
     ]
    }
   ],
   "source": [
    "'''2. Write a Python program to create sets from another set and dictionary. Also create a frozen set from a tuple.\n",
    "    Data:\n",
    "        x = {'a', 'e', 'i', 'o', 'u'}\n",
    "        y = {'a':1, 'e': 2, 'i':3, 'o':4, 'u':5}\n",
    "        z = ('a', 'e', 'i', 'o', 'u')\n",
    "    Expected Output:\n",
    "        {'i', 'u', 'e', 'o', 'a'}\n",
    "        {'i', 'u', 'e', 'o', 'a'}\n",
    "        {'i', 'u', 'e', 'o', 'a'}\n",
    "        \n",
    "        \n",
    "        '''\n",
    "x = {'a', 'e', 'i', 'o', 'u'}\n",
    "y = {'a':1, 'e': 2, 'i':3, 'o':4, 'u':5}\n",
    "z = ('a', 'e', 'i', 'o', 'u')\n",
    "print(set(x))\n",
    "print(set(y))\n",
    "print(set(z))"
   ]
  },
  {
   "cell_type": "code",
   "execution_count": 3,
   "metadata": {},
   "outputs": [
    {
     "name": "stdout",
     "output_type": "stream",
     "text": [
      "False\n",
      "False\n"
     ]
    }
   ],
   "source": [
    "'''3. Write a python function to check whether a given set has any duplicates. Return True if contains duplicates, false if not.\n",
    "    Data:\n",
    "        x = [21, 13, 35, 31, 12, 35, 10, 9, 9]\n",
    "        y = [1, 2, 3, 4]\n",
    "    Expected Output:\n",
    "        True\n",
    "        False\n",
    "        \n",
    "        '''\n",
    "def has_duplicates(input_set):\n",
    "    seen = set()\n",
    "    for item in input_set:\n",
    "        if item in seen:\n",
    "            return True\n",
    "        seen.add(item)\n",
    "    return False\n",
    "\n",
    "x = {21, 13, 35, 31, 12, 35, 10, 9, 9}\n",
    "y = {1, 2, 3, 4}\n",
    "result_x = has_duplicates(x)\n",
    "result_y = has_duplicates(y)\n",
    "\n",
    "print(result_x)  \n",
    "print(result_y)  \n"
   ]
  },
  {
   "cell_type": "code",
   "execution_count": 4,
   "metadata": {},
   "outputs": [
    {
     "name": "stdout",
     "output_type": "stream",
     "text": [
      "{5, 7}\n"
     ]
    }
   ],
   "source": [
    "'''4. Write a python function to find the intersection of given two lists using set().\n",
    "    Data:\n",
    "        x = [3, 5, 7, 10, 9]\n",
    "        y = [7, 11, 2, 17, 5]\n",
    "    Expected Output:\n",
    "        [5, 7]\n",
    "        [5, 7]\n",
    "        '''\n",
    "x = [3, 5, 7, 10, 9]\n",
    "y = [7, 11, 2, 17, 5]\n",
    "x = set(x)\n",
    "y = set(y)\n",
    "print(x&y)\n",
    "        "
   ]
  },
  {
   "cell_type": "code",
   "execution_count": null,
   "metadata": {},
   "outputs": [],
   "source": [
    "''' 5. Given a list of words, return the words that can be typed using letters of alphabet on only one row's of American keyboard.\n",
    "    You may use one character in the keyboard more than once.You may assume the input string will only contain letters \n",
    "    of alphabet.\n",
    "    Data:\n",
    "        words = ['Router', 'Type', 'Pine', 'Dash', 'Top', 'Rower', 'Freedom']\n",
    "    Expected Output: \n",
    "        ['Router', 'Type', 'Dash', 'Top', 'Rower'] '''\n",
    "\n",
    "#Didnt understand the question\n",
    "        \n",
    "        \n",
    "        "
   ]
  },
  {
   "cell_type": "code",
   "execution_count": null,
   "metadata": {},
   "outputs": [],
   "source": [
    "''' 6. Write a Python program to print the following output from given list \n",
    "        x = [[\"netflix\",\"google\",\"facebook\"],[\"netflix\",\"amazon\"],[\"facebook\",\"google\"]]\n",
    "    Expected Output:\n",
    "        [0, 1] '''\n",
    "\n",
    "# Incomplete question      \n",
    "        \n",
    "        "
   ]
  },
  {
   "cell_type": "code",
   "execution_count": 8,
   "metadata": {},
   "outputs": [
    {
     "name": "stdout",
     "output_type": "stream",
     "text": [
      "add : {'French', 'English'}\n",
      "copy : {'o', 'u', 'i', 'a', 'e'}\n",
      "before clear {'o', 'u', 'i', 'a', 'e'}\n",
      "after clear :set()\n"
     ]
    }
   ],
   "source": [
    "'''7. Write a Python program to perform the following functions.\n",
    "            1. remove()\n",
    "            2. add()\n",
    "            3. copy()\n",
    "            4. clear()\n",
    "    Data:\n",
    "        language = {'English', 'French', 'German'}\n",
    "        vowels = {'a', 'e', 'i', 'u'}\n",
    "    Expected Output:\n",
    "        After remove : {'English', 'French'}\n",
    "        Add : {'o', 'u', 'e', 'i', 'a'}\n",
    "        Copy : {'o', 'a', 'u', 'e', 'i'}\n",
    "        Vowels (before clear): {'o', 'u', 'e', 'i', 'a'}\n",
    "        Vowels (after clear): set()'''\n",
    "l = {'English', 'French', 'German'}\n",
    "v = {'a', 'e', 'i', 'u'}\n",
    "l.remove(\"German\")\n",
    "print(f\"add : {l}\")\n",
    "v.add(\"o\")\n",
    "print(f\"copy : {v}\")\n",
    "print(f\"before clear {v}\")\n",
    "v.clear()\n",
    "print(f\"after clear :{v}\")\n",
    "\n",
    "            "
   ]
  },
  {
   "cell_type": "code",
   "execution_count": 9,
   "metadata": {},
   "outputs": [
    {
     "name": "stdout",
     "output_type": "stream",
     "text": [
      "Difference : {'d', 'b', 'a'}\n",
      "Difference_update : {'d', 'b', 'a'}\n",
      "After discard : {2, 4, 5}\n"
     ]
    }
   ],
   "source": [
    "'''8. Write a Python program to perform the following functions.\n",
    "            1. difference()\n",
    "            2. difference_update()\n",
    "            3. discard()\n",
    "    Data:\n",
    "        A = {'a', 'b', 'c', 'd'}\n",
    "        B = {'c', 'f', 'g'}\n",
    "        numbers = {2, 3, 4, 5}\n",
    "    Expected Output:\n",
    "        Difference : {'b', 'a', 'd'}\n",
    "        Difference_update : {'b', 'd', 'a'}\n",
    "        After discard : {2, 4, 5}'''\n",
    "            \n",
    "\n",
    "A = {'a', 'b', 'c', 'd'}\n",
    "B = {'c', 'f', 'g'}\n",
    "numbers = {2, 3, 4, 5}\n",
    "difference_result = A.difference(B)\n",
    "A.difference_update(B)\n",
    "numbers.discard(3)\n",
    "print(\"Difference :\", difference_result)\n",
    "print(\"Difference_update :\", A)\n",
    "print(\"After discard :\", numbers)\n",
    "\n",
    "        "
   ]
  },
  {
   "cell_type": "code",
   "execution_count": 10,
   "metadata": {},
   "outputs": [
    {
     "name": "stdout",
     "output_type": "stream",
     "text": [
      "intersection : {2, 4, 5}\n",
      "intersection with two parameters : {3}\n",
      "\n",
      "intersection_update {2, 4, 5}\n",
      "\n",
      "Are A and B disjoint? False\n",
      "Are B and C disjoint? True\n"
     ]
    }
   ],
   "source": [
    "'''9. Write a Python program to perform the following functions.\n",
    "            1. intersection()\n",
    "            2. intersection_update()\n",
    "            3. isdisjoint()\n",
    "    Data:\n",
    "        A = {2, 3, 5, 4} B = {2, 5, 4, 100} C = {3, 8, 9, 10}\n",
    "    Expected Output:\n",
    "        intersection : {2, 4, 5}\n",
    "        intersection with two parameters : set()\n",
    "\n",
    "        intersection_update {2, 4, 5}\n",
    "\n",
    "        Are A and B disjoint? False\n",
    "        Are B and C disjoint? True'''\n",
    "        \n",
    "\n",
    "A = {2, 3, 5, 4}\n",
    "B = {2, 5, 4, 100}\n",
    "C = {3, 8, 9, 10}\n",
    "\n",
    "\n",
    "intersection_result = A.intersection(B)\n",
    "\n",
    "\n",
    "intersection_two_params = A.intersection(C)\n",
    "\n",
    "\n",
    "A.intersection_update(B)\n",
    "\n",
    "are_A_and_B_disjoint = A.isdisjoint(B)\n",
    "are_B_and_C_disjoint = B.isdisjoint(C)\n",
    "\n",
    "print(\"intersection :\", intersection_result)\n",
    "print(\"intersection with two parameters :\", intersection_two_params)\n",
    "print(\"\\nintersection_update\", A)\n",
    "print(\"\\nAre A and B disjoint?\", are_A_and_B_disjoint)\n",
    "print(\"Are B and C disjoint?\", are_B_and_C_disjoint)\n",
    "\n",
    "        "
   ]
  },
  {
   "cell_type": "code",
   "execution_count": 11,
   "metadata": {},
   "outputs": [
    {
     "name": "stdout",
     "output_type": "stream",
     "text": [
      "False\n",
      "False\n",
      "{1, 2, 3, 4}\n",
      "{1, 2, 3, 4, 6}\n"
     ]
    }
   ],
   "source": [
    "'''10. Write a Python program to perform the following functions.\n",
    "            1. issubset()\n",
    "            2. pop()\n",
    "            3. union()\n",
    "    Data:\n",
    "        A = {1, 2, 3}\n",
    "        B = {1, 2, 4}\n",
    "        C = {1, 2, 4, 6}\n",
    "    Expected Output:\n",
    "        A issubset of B : False\n",
    "        B issubset of A : False\n",
    "\n",
    "        Element popped from A : 1\n",
    "        After pop A : {2, 3}\n",
    "\n",
    "        A U B = {1, 2, 3, 4}\n",
    "        A U B U C = {1, 2, 3, 4, 6}'''\n",
    "A = {1, 2, 3}\n",
    "B = {1, 2, 4}\n",
    "C = {1, 2, 4, 6}\n",
    "print(A.issubset(B))\n",
    "print(B.issubset(A))\n",
    "print(A|B)\n",
    "print(A.union(B,C))\n",
    "        \n",
    "        "
   ]
  },
  {
   "cell_type": "code",
   "execution_count": null,
   "metadata": {},
   "outputs": [],
   "source": [
    "#Doubts\n",
    "\n",
    "#5 Didn't understand the question\n",
    "#6 Incomplete question"
   ]
  }
 ],
 "metadata": {
  "kernelspec": {
   "display_name": "Python 3 (ipykernel)",
   "language": "python",
   "name": "python3"
  },
  "language_info": {
   "codemirror_mode": {
    "name": "ipython",
    "version": 3
   },
   "file_extension": ".py",
   "mimetype": "text/x-python",
   "name": "python",
   "nbconvert_exporter": "python",
   "pygments_lexer": "ipython3",
   "version": "3.11.5"
  }
 },
 "nbformat": 4,
 "nbformat_minor": 4
}
